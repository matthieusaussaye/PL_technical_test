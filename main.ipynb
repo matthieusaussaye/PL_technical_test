{
 "cells": [
  {
   "cell_type": "code",
   "execution_count": 134,
   "source": [
    "import numpy as np\n",
    "import pandas as pd\n",
    "from main import *"
   ],
   "outputs": [],
   "metadata": {}
  },
  {
   "cell_type": "code",
   "execution_count": 98,
   "source": [
    "\n",
    "\n",
    "\n",
    "big_M =  np.array([[1,2,3,4],[1,2,3,4],[1,2,3,4],[3,4,5,5]])\n",
    "M = np.array([[1,2],[3,4]])\n",
    "M = np.array([[-1,2],[3,-1]])\n",
    "compute_determinant(M)\n",
    "\n",
    "np.linalg.det(M)\n",
    "\n",
    "    "
   ],
   "outputs": [
    {
     "output_type": "execute_result",
     "data": {
      "text/plain": [
       "-5.0"
      ]
     },
     "metadata": {},
     "execution_count": 98
    }
   ],
   "metadata": {}
  },
  {
   "cell_type": "code",
   "execution_count": 31,
   "source": [
    "# Python3 program to get maximum and minimum\n",
    "# values of an expression\n",
    "\n",
    "# method prints minimum and maximum value\n",
    "# obtainable from an expression\n",
    "\n",
    "\n",
    "# Driver code\n",
    "expression = \"2*5+9\"\n",
    "#printMinAndMaxValueOfExp(list_num=[2,5,9], list_op=['*','+'])\n",
    "printMinAndMaxValueOfExp(list_num=[0.6,0.2,0.1,7], list_op=['/','-','*'])\n",
    "\n",
    "# This code is contributed by mohit kumar 29"
   ],
   "outputs": [
    {
     "output_type": "stream",
     "name": "stdout",
     "text": [
      "Minimum value :  -1.2 , \t\t\tMaximum value :  41.99999999999999\n"
     ]
    },
    {
     "output_type": "execute_result",
     "data": {
      "text/plain": [
       "('((0.6/(0.2-0.1))*7)', 43)"
      ]
     },
     "metadata": {},
     "execution_count": 31
    }
   ],
   "metadata": {}
  },
  {
   "cell_type": "code",
   "execution_count": 14,
   "source": [
    "'('+'a+b'+')'"
   ],
   "outputs": [
    {
     "output_type": "execute_result",
     "data": {
      "text/plain": [
       "'(a+b)'"
      ]
     },
     "metadata": {},
     "execution_count": 14
    }
   ],
   "metadata": {}
  },
  {
   "cell_type": "code",
   "execution_count": 100,
   "source": [
    "from bs4 import BeautifulSoup as bs\n",
    "import urllib2\n",
    "html = urllib2.urlopen(your_site_here)\n",
    "\n"
   ],
   "outputs": [
    {
     "output_type": "error",
     "ename": "ModuleNotFoundError",
     "evalue": "No module named 'bs4'",
     "traceback": [
      "\u001b[0;31m---------------------------------------------------------------------------\u001b[0m",
      "\u001b[0;31mModuleNotFoundError\u001b[0m                       Traceback (most recent call last)",
      "\u001b[0;32m/tmp/ipykernel_446/2849440528.py\u001b[0m in \u001b[0;36m<module>\u001b[0;34m\u001b[0m\n\u001b[0;32m----> 1\u001b[0;31m \u001b[0;32mfrom\u001b[0m \u001b[0mbs4\u001b[0m \u001b[0;32mimport\u001b[0m \u001b[0mBeautifulSoup\u001b[0m \u001b[0;32mas\u001b[0m \u001b[0mbs\u001b[0m\u001b[0;34m\u001b[0m\u001b[0;34m\u001b[0m\u001b[0m\n\u001b[0m\u001b[1;32m      2\u001b[0m \u001b[0;32mimport\u001b[0m \u001b[0murllib2\u001b[0m\u001b[0;34m\u001b[0m\u001b[0;34m\u001b[0m\u001b[0m\n\u001b[1;32m      3\u001b[0m \u001b[0mhtml\u001b[0m \u001b[0;34m=\u001b[0m \u001b[0murllib2\u001b[0m\u001b[0;34m.\u001b[0m\u001b[0murlopen\u001b[0m\u001b[0;34m(\u001b[0m\u001b[0myour_site_here\u001b[0m\u001b[0;34m)\u001b[0m\u001b[0;34m\u001b[0m\u001b[0;34m\u001b[0m\u001b[0m\n\u001b[1;32m      4\u001b[0m \u001b[0;34m\u001b[0m\u001b[0m\n",
      "\u001b[0;31mModuleNotFoundError\u001b[0m: No module named 'bs4'"
     ]
    }
   ],
   "metadata": {}
  },
  {
   "cell_type": "code",
   "execution_count": null,
   "source": [],
   "outputs": [],
   "metadata": {}
  }
 ],
 "metadata": {
  "orig_nbformat": 4,
  "language_info": {
   "name": "python",
   "version": "3.8.5",
   "mimetype": "text/x-python",
   "codemirror_mode": {
    "name": "ipython",
    "version": 3
   },
   "pygments_lexer": "ipython3",
   "nbconvert_exporter": "python",
   "file_extension": ".py"
  },
  "kernelspec": {
   "name": "python3",
   "display_name": "Python 3.8.5 64-bit ('crypto-trading-bot-2NQVy3KX-py3.8': venv)"
  },
  "interpreter": {
   "hash": "5dd3dc30848b78765b16a16feaf6490d50f30ad57d44a1fe7e49be7641e0bd0a"
  }
 },
 "nbformat": 4,
 "nbformat_minor": 2
}