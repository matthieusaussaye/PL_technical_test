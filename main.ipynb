{
 "cells": [
  {
   "cell_type": "code",
   "execution_count": 1,
   "source": [
    "import numpy as np\n",
    "import pandas as pd\n",
    "from main import *\n"
   ],
   "outputs": [],
   "metadata": {}
  },
  {
   "cell_type": "code",
   "execution_count": 5,
   "source": [
    "\n",
    "str(list('ABC').pop(1))\n",
    "'B'+'C'"
   ],
   "outputs": [
    {
     "output_type": "execute_result",
     "data": {
      "text/plain": [
       "'BC'"
      ]
     },
     "metadata": {},
     "execution_count": 5
    }
   ],
   "metadata": {}
  },
  {
   "cell_type": "code",
   "execution_count": 41,
   "source": [
    "L = list('ABC')\n",
    "char = L.pop(1)\n",
    "\"\".join(L)\n",
    "char + 'AB'"
   ],
   "outputs": [
    {
     "output_type": "execute_result",
     "data": {
      "text/plain": [
       "'BAB'"
      ]
     },
     "metadata": {},
     "execution_count": 41
    }
   ],
   "metadata": {}
  },
  {
   "cell_type": "code",
   "execution_count": 54,
   "source": [
    "len(np.array([[[]]]).shape)"
   ],
   "outputs": [
    {
     "output_type": "execute_result",
     "data": {
      "text/plain": [
       "3"
      ]
     },
     "metadata": {},
     "execution_count": 54
    }
   ],
   "metadata": {}
  },
  {
   "cell_type": "code",
   "execution_count": 69,
   "source": [
    "len([3,4,2,1])\n",
    "\n",
    "M[]"
   ],
   "outputs": [
    {
     "output_type": "execute_result",
     "data": {
      "text/plain": [
       "4"
      ]
     },
     "metadata": {},
     "execution_count": 69
    }
   ],
   "metadata": {}
  },
  {
   "cell_type": "code",
   "execution_count": 29,
   "source": [
    "word = np.arange(1,3+1,1)\n",
    "\"\".join(map(str,word))"
   ],
   "outputs": [
    {
     "output_type": "execute_result",
     "data": {
      "text/plain": [
       "'123'"
      ]
     },
     "metadata": {},
     "execution_count": 29
    }
   ],
   "metadata": {}
  },
  {
   "cell_type": "code",
   "execution_count": 88,
   "source": [
    "def signature(permutation : list) -> int :\n",
    "    \"\"\"\n",
    "    Compute the signatures of a permutation (list of int)\n",
    "\n",
    "    Args:\n",
    "        - permutation (list) : list of int where i is the index of the list and i -> sigma(i) is the bijection. Example : [1,2,3,4] -> 1 \n",
    "    \n",
    "    Return:\n",
    "        - prod (float) : signature of the permutation\n",
    "    \"\"\"\n",
    "    prod = 1\n",
    "    for j in range(len(permutation)) :\n",
    "        for i in range(j) :\n",
    "            prod *= (permutation[j]-permutation[i])/((j+1)-(i+1))\n",
    "\n",
    "    return(prod)\n",
    "\n",
    "def compute_determinant(M : np.ndarray) -> int :\n",
    "    \"\"\"\n",
    "    Compute the determinant of a square matrix using the signature.\n",
    "\n",
    "    Args:\n",
    "        - M (np.darray) : matrix size NxN\n",
    "    \n",
    "    Return:\n",
    "        - determinant (float) : determinant of the matrix\n",
    "    \"\"\"\n",
    "\n",
    "    if not isinstance(M, np.ndarray) or len(M.shape) != 2 or M.shape[1] != M.shape[0] :\n",
    "        raise Exception('Matrix format incorrect. Input a np.ndarray matrix NxN with N>1')\n",
    "\n",
    "    if len(M) == 1 :\n",
    "        return float(M)\n",
    "    \n",
    "    size = len(M)\n",
    "    indexes_str = \"\".join(map(str,np.arange(1,size+1,1))) #create string : '1234..len(M)'\n",
    "    permutations_str = permutations(indexes_str) #compute all permutations of the string\n",
    "    sum = 0\n",
    "\n",
    "    for permutation in permutations_str :\n",
    "\n",
    "        permutation_int = [int(i) for i in permutation]\n",
    "        sign = signature(permutation_int)\n",
    "\n",
    "        prod_permutation = sign\n",
    "\n",
    "        for i in range(len(permutation_int)) :\n",
    "            prod_permutation *= M[permutation_int[i]-1,i]\n",
    "        \n",
    "        sum+=prod_permutation\n",
    "    \n",
    "    return(sum)\n",
    "\n",
    "\n",
    "big_M =  np.array([[1,2,3,4],[1,2,3,4],[1,2,3,4],[3,4,5,5]])\n",
    "M = np.array([1,2],[3,4])\n",
    "\n",
    "compute_determinant()\n",
    "\n",
    "np.linalg.det()\n",
    "\n",
    "    "
   ],
   "outputs": [
    {
     "output_type": "execute_result",
     "data": {
      "text/plain": [
       "0.0"
      ]
     },
     "metadata": {},
     "execution_count": 88
    }
   ],
   "metadata": {}
  },
  {
   "cell_type": "code",
   "execution_count": 91,
   "source": [
    "pas('ABx')"
   ],
   "outputs": [
    {
     "output_type": "execute_result",
     "data": {
      "text/plain": [
       "['ABx', 'AxB', 'BAx', 'BxA', 'xAB', 'xBA']"
      ]
     },
     "metadata": {},
     "execution_count": 91
    }
   ],
   "metadata": {}
  },
  {
   "cell_type": "code",
   "execution_count": 2,
   "source": [
    "from main import *\n",
    "\n"
   ],
   "outputs": [
    {
     "output_type": "execute_result",
     "data": {
      "text/plain": [
       "['1234',\n",
       " '1243',\n",
       " '1324',\n",
       " '1342',\n",
       " '1423',\n",
       " '1432',\n",
       " '2134',\n",
       " '2143',\n",
       " '2314',\n",
       " '2341',\n",
       " '2413',\n",
       " '2431',\n",
       " '3124',\n",
       " '3142',\n",
       " '3214',\n",
       " '3241',\n",
       " '3412',\n",
       " '3421',\n",
       " '4123',\n",
       " '4132',\n",
       " '4213',\n",
       " '4231',\n",
       " '4312',\n",
       " '4321']"
      ]
     },
     "metadata": {},
     "execution_count": 2
    }
   ],
   "metadata": {}
  },
  {
   "cell_type": "code",
   "execution_count": null,
   "source": [],
   "outputs": [],
   "metadata": {}
  }
 ],
 "metadata": {
  "orig_nbformat": 4,
  "language_info": {
   "name": "python",
   "version": "3.8.5",
   "mimetype": "text/x-python",
   "codemirror_mode": {
    "name": "ipython",
    "version": 3
   },
   "pygments_lexer": "ipython3",
   "nbconvert_exporter": "python",
   "file_extension": ".py"
  },
  "kernelspec": {
   "name": "python3",
   "display_name": "Python 3.8.5 64-bit ('crypto-trading-bot-2NQVy3KX-py3.8': venv)"
  },
  "interpreter": {
   "hash": "5dd3dc30848b78765b16a16feaf6490d50f30ad57d44a1fe7e49be7641e0bd0a"
  }
 },
 "nbformat": 4,
 "nbformat_minor": 2
}