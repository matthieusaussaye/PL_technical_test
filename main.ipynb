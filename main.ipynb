{
 "cells": [
  {
   "cell_type": "code",
   "execution_count": 1,
   "source": [
    "import numpy as np\n",
    "import pandas as pd\n",
    "from main import *\n"
   ],
   "outputs": [],
   "metadata": {}
  },
  {
   "cell_type": "code",
   "execution_count": 5,
   "source": [
    "\n",
    "str(list('ABC').pop(1))\n",
    "'B'+'C'"
   ],
   "outputs": [
    {
     "output_type": "execute_result",
     "data": {
      "text/plain": [
       "'BC'"
      ]
     },
     "metadata": {},
     "execution_count": 5
    }
   ],
   "metadata": {}
  },
  {
   "cell_type": "code",
   "execution_count": 41,
   "source": [
    "L = list('ABC')\n",
    "char = L.pop(1)\n",
    "\"\".join(L)\n",
    "char + 'AB'"
   ],
   "outputs": [
    {
     "output_type": "execute_result",
     "data": {
      "text/plain": [
       "'BAB'"
      ]
     },
     "metadata": {},
     "execution_count": 41
    }
   ],
   "metadata": {}
  },
  {
   "cell_type": "code",
   "execution_count": 47,
   "source": [
    "for char in 'ABC' :\n",
    "    print(char)\n",
    "len('ABC')"
   ],
   "outputs": [
    {
     "output_type": "stream",
     "name": "stdout",
     "text": [
      "A\n",
      "B\n",
      "C\n"
     ]
    },
    {
     "output_type": "execute_result",
     "data": {
      "text/plain": [
       "3"
      ]
     },
     "metadata": {},
     "execution_count": 47
    }
   ],
   "metadata": {}
  },
  {
   "cell_type": "code",
   "execution_count": 92,
   "source": [
    "def permutations(string):\n",
    "    \"\"\"\n",
    "    Create all permutations of a string with non-repeating characters\n",
    "    \"\"\"\n",
    "    permutation_list = []\n",
    "    if len(string) == 1:\n",
    "        return string\n",
    "\n",
    "    else:\n",
    "        for char in string:\n",
    "            for new_string in permutations(string.replace(char, \"\", 1)) :\n",
    "                #add at the extracted char every permutations lenght len(str)-1 without the extracted char\n",
    "                permutation_list.append(char + new_string)\n",
    "\n",
    "    return permutation_list\n"
   ],
   "outputs": [],
   "metadata": {}
  },
  {
   "cell_type": "code",
   "execution_count": 91,
   "source": [
    "pas('ABx')"
   ],
   "outputs": [
    {
     "output_type": "execute_result",
     "data": {
      "text/plain": [
       "['ABx', 'AxB', 'BAx', 'BxA', 'xAB', 'xBA']"
      ]
     },
     "metadata": {},
     "execution_count": 91
    }
   ],
   "metadata": {}
  },
  {
   "cell_type": "code",
   "execution_count": 59,
   "source": [
    "print(L)"
   ],
   "outputs": [
    {
     "output_type": "stream",
     "name": "stdout",
     "text": [
      "None\n"
     ]
    }
   ],
   "metadata": {}
  }
 ],
 "metadata": {
  "orig_nbformat": 4,
  "language_info": {
   "name": "python",
   "version": "3.8.5",
   "mimetype": "text/x-python",
   "codemirror_mode": {
    "name": "ipython",
    "version": 3
   },
   "pygments_lexer": "ipython3",
   "nbconvert_exporter": "python",
   "file_extension": ".py"
  },
  "kernelspec": {
   "name": "python3",
   "display_name": "Python 3.8.5 64-bit ('crypto-trading-bot-2NQVy3KX-py3.8': venv)"
  },
  "interpreter": {
   "hash": "5dd3dc30848b78765b16a16feaf6490d50f30ad57d44a1fe7e49be7641e0bd0a"
  }
 },
 "nbformat": 4,
 "nbformat_minor": 2
}