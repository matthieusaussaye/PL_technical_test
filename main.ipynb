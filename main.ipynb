{
 "cells": [
  {
   "cell_type": "markdown",
   "source": [
    "# Import librairies"
   ],
   "metadata": {}
  },
  {
   "cell_type": "code",
   "execution_count": 1,
   "source": [
    "import numpy as np\n",
    "import pandas as pd\n",
    "from main import *"
   ],
   "outputs": [],
   "metadata": {}
  },
  {
   "cell_type": "markdown",
   "source": [
    "# Exercice 1 - Remove duplicates\n",
    "- Function execution\n",
    "- Unit tests"
   ],
   "metadata": {}
  },
  {
   "cell_type": "code",
   "execution_count": 2,
   "source": [
    "remove_duplicate([1,2,2,3])"
   ],
   "outputs": [
    {
     "output_type": "execute_result",
     "data": {
      "text/plain": [
       "[1, 2, 3]"
      ]
     },
     "metadata": {},
     "execution_count": 2
    }
   ],
   "metadata": {}
  },
  {
   "cell_type": "markdown",
   "source": [
    "# Exercice 2 - Permutations \n",
    "- Function execution\n",
    "- Unit tests"
   ],
   "metadata": {}
  },
  {
   "cell_type": "code",
   "execution_count": 4,
   "source": [
    "permutations('abcd')"
   ],
   "outputs": [
    {
     "output_type": "execute_result",
     "data": {
      "text/plain": [
       "['abcd',\n",
       " 'abdc',\n",
       " 'acbd',\n",
       " 'acdb',\n",
       " 'adbc',\n",
       " 'adcb',\n",
       " 'bacd',\n",
       " 'badc',\n",
       " 'bcad',\n",
       " 'bcda',\n",
       " 'bdac',\n",
       " 'bdca',\n",
       " 'cabd',\n",
       " 'cadb',\n",
       " 'cbad',\n",
       " 'cbda',\n",
       " 'cdab',\n",
       " 'cdba',\n",
       " 'dabc',\n",
       " 'dacb',\n",
       " 'dbac',\n",
       " 'dbca',\n",
       " 'dcab',\n",
       " 'dcba']"
      ]
     },
     "metadata": {},
     "execution_count": 4
    }
   ],
   "metadata": {}
  },
  {
   "cell_type": "markdown",
   "source": [
    "# Exercice 3 - Determinant :"
   ],
   "metadata": {}
  },
  {
   "cell_type": "markdown",
   "source": [
    "### We will use the formula using the signature :\n",
    "\n",
    "# ![title](./data/det.png)"
   ],
   "metadata": {}
  },
  {
   "cell_type": "code",
   "execution_count": 5,
   "source": [
    "big_M =  np.array([[1,2,3,4],[1,2,3,4],[1,2,3,4],[3,4,5,5]])\n",
    "M1 = np.array([[1,2],[3,4]])\n",
    "M2 = np.array([[-1,2],[3,-1]])\n",
    "compute_determinant(M2)\n"
   ],
   "outputs": [
    {
     "output_type": "execute_result",
     "data": {
      "text/plain": [
       "-5.0"
      ]
     },
     "metadata": {},
     "execution_count": 5
    }
   ],
   "metadata": {}
  },
  {
   "cell_type": "code",
   "execution_count": 6,
   "source": [
    "#Verification with np.linalg\n",
    "np.round(np.linalg.det(M2),decimals=5)\n"
   ],
   "outputs": [
    {
     "output_type": "execute_result",
     "data": {
      "text/plain": [
       "-5.0"
      ]
     },
     "metadata": {},
     "execution_count": 6
    }
   ],
   "metadata": {}
  },
  {
   "cell_type": "markdown",
   "source": [
    "# Exercice 4 - Data Loader :\n",
    "- Function execution\n",
    "- Unit tests"
   ],
   "metadata": {}
  },
  {
   "cell_type": "code",
   "execution_count": 7,
   "source": [
    "from loader_open_interest import preprocess_url,filtering_text\n",
    "\n",
    "#Pre-process & extract useful informations\n",
    "text = preprocess_url(url = \"https://www.cftc.gov/dea/futures/electricity_sf.htm\") \n",
    "dict_CFTC = filtering_text(text)\n",
    "\n",
    "#Save as csv\n",
    "pd.DataFrame.from_dict(dict_CFTC).to_csv('./data/CFTC.csv',index=False)\n",
    "\n",
    "#Postprocess the csv\n",
    "with open('./data/CFTC.csv', 'r') as f2 :\n",
    "    for line in f2 :\n",
    "        print(line.replace('\"',''))"
   ],
   "outputs": [
    {
     "output_type": "stream",
     "name": "stdout",
     "text": [
      "contract,open_interest\n",
      "\n",
      "COAL (API 2) CIF ARA - NEW YORK MERCANTILE EXCHANGE(CONTRACTS OF 1,000 METRIC TONS),18573\n",
      "\n",
      "MID-C DAY-AHEAD PEAK - ICE FUTURES ENERGY DIV(Contracts of 400 MWh),32730\n",
      "\n",
      "MID-C DAY-AHEAD OFF-PEAK - ICE FUTURES ENERGY DIV(1 MWh for about 368 Hours),28768\n",
      "\n",
      "PJM WESTERN HUB RT OFF - ICE FUTURES ENERGY DIV(Contracts of 1Megawatt for 368 Hours),168202\n",
      "\n",
      "SP15 FIN DA PEAK FIXED - ICE FUTURES ENERGY DIV(Contracts of 400 Megawatt Hours),60161\n",
      "\n",
      "CAISO SP-15 DA OFF-PK FIXED - ICE FUTURES ENERGY DIV(1 MW per Hour for about 386 Hours),38453\n",
      "\n",
      "PJM AEP DAYTON RT OFF-PK FIXED - ICE FUTURES ENERGY DIV(1 MW per Hour for about 386 Hours),47627\n",
      "\n",
      "PJM AEP DAYTON RT PEAK FIXED - ICE FUTURES ENERGY DIV800MWh,60035\n",
      "\n",
      "PJM AEP DAYTON HUB DA OFF-PK- ICE FUTURES ENERGY DIV1 MW,66808\n",
      "\n",
      "PJM AEP DAYTON DA PEAK - ICE FUTURES ENERGY DIV1 MW,83707\n",
      "\n",
      "MISO INDIANAOFF-PEAK - ICE FUTURES ENERGY DIV1 MW,27486\n",
      "\n",
      "MISO IN. REAL-TIME OFF-PEAK - ICE FUTURES ENERGY DIV(1 MW for about 368 Hours),31048\n",
      "\n",
      "ERCOT HOUSTON 345KV RT PK FIX - ICE FUTURES ENERGY DIV1 Mwh per Peak Hour,29842\n",
      "\n",
      "ERCOT NORTH 345KV RT PK FIX - ICE FUTURES ENERGY DIV1 Mw per Peak Hour,127210\n",
      "\n",
      "ERCOT SOUTH 345 KV RT PEAK FIX - ICE FUTURES ENERGY DIV1 Mwh per Peak Hour,24963\n",
      "\n",
      "ERCOT-SOUTH MONTHLY OFFPEAK - ICE FUTURES ENERGY DIV1 MW,21901\n",
      "\n",
      "ERCOT WEST 345KV RT PEAK - ICE FUTURES ENERGY DIV1 Mwh per peak hour,40641\n",
      "\n",
      "ERCOT WEST 345K RT OFF-PEAK - ICE FUTURES ENERGY DIV1 MWh per Off-Peak Hour,36051\n",
      "\n",
      "ERCOT - NORTH MONTHLY OFF-PEAK - ICE FUTURES ENERGY DIV1 Mwh per Off-Peak Hour,70972\n",
      "\n",
      "MISO IN. DAY-AHEAD PEAK - ICE FUTURES ENERGY DIV1 MW,34222\n",
      "\n",
      "MISO INDIANA HUB RT PEAK - ICE FUTURES ENERGY DIV800 Mwh,40847\n",
      "\n",
      "PJM N. IL HUB DA OFF-PK- ICE FUTURES ENERGY DIV1 MW,46585\n",
      "\n",
      "PJM N. IL HUB DA PEAK - ICE FUTURES ENERGY DIV1 MW,51361\n",
      "\n",
      "ISO NE MASS HUB DA OFF-PK FIXD - ICE FUTURES ENERGY DIV(1 MW per Hour for about 368 Hours),84262\n",
      "\n",
      "ISO NE MASS HUB DA PEAK - ICE FUTURES ENERGY DIV800MWh,107655\n",
      "\n",
      "CAISO NP-15 PEAK - ICE FUTURES ENERGY DIV400MWh,61770\n",
      "\n",
      "CAISO NP-15 DA OFF-PK FIXED - ICE FUTURES ENERGY DIV(1 MW per Hour for about 386 Hours),48711\n",
      "\n",
      "PJM NI HUB RT OFF-PK FIXED - ICE FUTURES ENERGY DIV(1 MW per Hour for about 386 Hours),41966\n",
      "\n",
      "PJM N. IL HUB RT PEAK - ICE FUTURES ENERGY DIV800 MWh,48509\n",
      "\n",
      "NYISO ZONE J DA PEAK - ICE FUTURES ENERGY DIV800MWh,14576\n",
      "\n",
      "NYISO ZONE J DA OFF-PK FIXED - ICE FUTURES ENERGY DIV(1 MW for about 368 Hours),13687\n",
      "\n",
      "NYISO ZONE A DA PEAK - ICE FUTURES ENERGY DIV800MWh,25011\n",
      "\n",
      "NYISO ZONE A DA OFF-PK FIX PR - ICE FUTURES ENERGY DIV(1MW for about 368 Hours),16393\n",
      "\n",
      "NYISO ZONE G DA PEAK - ICE FUTURES ENERGY DIV800MWh,36691\n",
      "\n",
      "NYISO ZONE G DA OFF-PK - ICE FUTURES ENERGY DIV(1MW for about 368 Hours),21512\n",
      "\n",
      "PALO VERDE DA PEAK - ICE FUTURES ENERGY DIV400MWh,15232\n",
      "\n",
      "PALO VERDE DA OFF-PK FiXED PR - ICE FUTURES ENERGY DIV(1 MW for about 368 Hours),18513\n",
      "\n",
      "PJM PECO ZONE DA PEAK - ICE FUTURES ENERGY DIV1 MW,15867\n",
      "\n",
      "PJM PECO ZONE OFF-PEAK MONTHLY - ICE FUTURES ENERGY DIV1 MW,8331\n",
      "\n",
      "PJM PPL ZONE DAY AHEAD, OFF-PEAK MONTHLY - ICE FUTURES ENERGY DIV1 MW,46214\n",
      "\n",
      "PJM PPL ZONE DA PEAK - ICE FUTURES ENERGY DIV1 MW,49184\n",
      "\n",
      "PJM WESTERN HUB DA OFF-PK - ICE FUTURES ENERGY DIV1 MW,100241\n",
      "\n",
      "PJM WESTERN HUB DA PEAK - ICE FUTURES ENERGY DIV352 MWh,116072\n",
      "\n",
      "PJM WESTERN HUB RT PEAK MINI - ICE FUTURES ENERGY DIV1 MW,402863\n",
      "\n",
      "PJM PSEG ZONE DAY-AHEAD OFF-PEAK - ICE FUTURES ENERGY DIV1 MW,11335\n",
      "\n",
      "ERCOT N 345KV REAL T PK DALY M - ICE FUTURES ENERGY DIV16 MWh,7660\n",
      "\n",
      "ERCOT N 345KV REAL T PK 2x16 - ICE FUTURES ENERGY DIV(1MW for about 352 Hours),33324\n",
      "\n",
      "ERCOT North 345KV Hub RT 7x8 - ICE FUTURES ENERGY DIV(1MW for about 352 Hours),34537\n",
      "\n",
      "ISONE..H.INTERNAL_HUB_month_on_dap - NODAL EXCHANGEMegawatt Hours (MWh),84876\n",
      "\n",
      "ISONE..H.INTERNAL_HUB_month_off_dap - NODAL EXCHANGEMegawatt Hours (MWh),67589\n",
      "\n",
      "MISO.INDIANA.HUB_month_on_dap - NODAL EXCHANGEMegawatt Hours (MWh),24860\n",
      "\n",
      "MISO.INDIANA.HUB_month_off_dap - NODAL EXCHANGEMegawatt Hours (MWh),22850\n",
      "\n",
      "NYISO.HUD VL_month_on_dap - NODAL EXCHANGEMegawatt Hours (MWh),37048\n",
      "\n",
      "NYISO.HUD VL_month_off_dap - NODAL EXCHANGEMegawatt Hours (MWh),26425\n",
      "\n",
      "NYISO.WEST_month_on_dap - NODAL EXCHANGEMegawatt Hours (MWh),21361\n",
      "\n",
      "PJM.AEP-DAYTON HUB_month_on_dap - NODAL EXCHANGEMegawatt Hours (MWh),98152\n",
      "\n",
      "PJM.AEP-DAYTON HUB_month_off_dap - NODAL EXCHANGEMegawatt Hours (MWh),97756\n",
      "\n",
      "PJM.BGE_month_on_dap - NODAL EXCHANGEMegawatt Hours (MWh),26085\n",
      "\n",
      "PJM.BGE_month_off_dap - NODAL EXCHANGEMegawatt Hours (MWh),25985\n",
      "\n",
      "PJM.N ILLINOIS HUB_month_on_dap - NODAL EXCHANGEMegawatt Hours (MWh),50417\n",
      "\n",
      "PJM.N ILLINOIS HUB_month_off_dap - NODAL EXCHANGEMegawatt Hours (MWh),56096\n",
      "\n",
      "PJM.PECO_month_on_dap - NODAL EXCHANGEMegawatt Hours (MWh),52215\n",
      "\n",
      "PJM.PECO_month_off_dap - NODAL EXCHANGEMegawatt Hours (MWh),48640\n",
      "\n",
      "PJM.PPL_month_on_dap - NODAL EXCHANGEMegawatt Hours (MWh),76420\n",
      "\n",
      "PJM.PPL_month_off_dap - NODAL EXCHANGEMegawatt Hours (MWh),73250\n",
      "\n",
      "PJM.PSEG_month_on_dap - NODAL EXCHANGEMegawatt Hours (MWh),57444\n",
      "\n",
      "PJM.PSEG_month_off_dap - NODAL EXCHANGEMegawatt Hours (MWh),50044\n",
      "\n",
      "PJM.WESTERN HUB_month_on_dap - NODAL EXCHANGEMegawatt Hours (MWh),214925\n",
      "\n",
      "PJM.WESTERN HUB_month_off_dap - NODAL EXCHANGEMegawatt Hours (MWh),201267\n",
      "\n",
      "PJM.AEP-DAYTON HUB_month_on_rtp - NODAL EXCHANGEMegawatt Hours (MWh),49121\n",
      "\n",
      "PJM.AEP-DAYTON HUB_month_off_rtp - NODAL EXCHANGEMegawatt Hours (MWh),45140\n",
      "\n",
      "PJM.N ILLINOIS HUB_month_on_rtp - NODAL EXCHANGEMegawatt Hours (MWh),47061\n",
      "\n",
      "PJM.N ILLINOIS HUB_month_off_rtp - NODAL EXCHANGEMegawatt Hours (MWh),47335\n",
      "\n",
      "PJM.WESTERN HUB_month_on_rtp - NODAL EXCHANGEMegawatt Hours (MWh),212273\n",
      "\n",
      "PJM.WESTERN HUB_month_off_rtp - NODAL EXCHANGEMegawatt Hours (MWh),189142\n",
      "\n",
      "contract,open_interest\n",
      "\n",
      "COAL (API 2) CIF ARA - NEW YORK MERCANTILE EXCHANGE(CONTRACTS OF 1,000 METRIC TONS),18573\n",
      "\n",
      "MID-C DAY-AHEAD PEAK - ICE FUTURES ENERGY DIV(Contracts of 400 MWh),32730\n",
      "\n",
      "MID-C DAY-AHEAD OFF-PEAK - ICE FUTURES ENERGY DIV(1 MWh for about 368 Hours),28768\n",
      "\n",
      "PJM WESTERN HUB RT OFF - ICE FUTURES ENERGY DIV(Contracts of 1Megawatt for 368 Hours),168202\n",
      "\n",
      "SP15 FIN DA PEAK FIXED - ICE FUTURES ENERGY DIV(Contracts of 400 Megawatt Hours),60161\n",
      "\n",
      "CAISO SP-15 DA OFF-PK FIXED - ICE FUTURES ENERGY DIV(1 MW per Hour for about 386 Hours),38453\n",
      "\n",
      "PJM AEP DAYTON RT OFF-PK FIXED - ICE FUTURES ENERGY DIV(1 MW per Hour for about 386 Hours),47627\n",
      "\n",
      "PJM AEP DAYTON RT PEAK FIXED - ICE FUTURES ENERGY DIV800MWh,60035\n",
      "\n",
      "PJM AEP DAYTON HUB DA OFF-PK- ICE FUTURES ENERGY DIV1 MW,66808\n",
      "\n",
      "PJM AEP DAYTON DA PEAK - ICE FUTURES ENERGY DIV1 MW,83707\n",
      "\n",
      "MISO INDIANAOFF-PEAK - ICE FUTURES ENERGY DIV1 MW,27486\n",
      "\n",
      "MISO IN. REAL-TIME OFF-PEAK - ICE FUTURES ENERGY DIV(1 MW for about 368 Hours),31048\n",
      "\n",
      "ERCOT HOUSTON 345KV RT PK FIX - ICE FUTURES ENERGY DIV1 Mwh per Peak Hour,29842\n",
      "\n",
      "ERCOT NORTH 345KV RT PK FIX - ICE FUTURES ENERGY DIV1 Mw per Peak Hour,127210\n",
      "\n",
      "ERCOT SOUTH 345 KV RT PEAK FIX - ICE FUTURES ENERGY DIV1 Mwh per Peak Hour,24963\n",
      "\n",
      "ERCOT-SOUTH MONTHLY OFFPEAK - ICE FUTURES ENERGY DIV1 MW,21901\n",
      "\n",
      "ERCOT WEST 345KV RT PEAK - ICE FUTURES ENERGY DIV1 Mwh per peak hour,40641\n",
      "\n",
      "ERCOT WEST 345K RT OFF-PEAK - ICE FUTURES ENERGY DIV1 MWh per Off-Peak Hour,36051\n",
      "\n",
      "ERCOT - NORTH MONTHLY OFF-PEAK - ICE FUTURES ENERGY DIV1 Mwh per Off-Peak Hour,70972\n",
      "\n",
      "MISO IN. DAY-AHEAD PEAK - ICE FUTURES ENERGY DIV1 MW,34222\n",
      "\n",
      "MISO INDIANA HUB RT PEAK - ICE FUTURES ENERGY DIV800 Mwh,40847\n",
      "\n",
      "PJM N. IL HUB DA OFF-PK- ICE FUTURES ENERGY DIV1 MW,46585\n",
      "\n",
      "PJM N. IL HUB DA PEAK - ICE FUTURES ENERGY DIV1 MW,51361\n",
      "\n",
      "ISO NE MASS HUB DA OFF-PK FIXD - ICE FUTURES ENERGY DIV(1 MW per Hour for about 368 Hours),84262\n",
      "\n",
      "ISO NE MASS HUB DA PEAK - ICE FUTURES ENERGY DIV800MWh,107655\n",
      "\n",
      "CAISO NP-15 PEAK - ICE FUTURES ENERGY DIV400MWh,61770\n",
      "\n",
      "CAISO NP-15 DA OFF-PK FIXED - ICE FUTURES ENERGY DIV(1 MW per Hour for about 386 Hours),48711\n",
      "\n",
      "PJM NI HUB RT OFF-PK FIXED - ICE FUTURES ENERGY DIV(1 MW per Hour for about 386 Hours),41966\n",
      "\n",
      "PJM N. IL HUB RT PEAK - ICE FUTURES ENERGY DIV800 MWh,48509\n",
      "\n",
      "NYISO ZONE J DA PEAK - ICE FUTURES ENERGY DIV800MWh,14576\n",
      "\n",
      "NYISO ZONE J DA OFF-PK FIXED - ICE FUTURES ENERGY DIV(1 MW for about 368 Hours),13687\n",
      "\n",
      "NYISO ZONE A DA PEAK - ICE FUTURES ENERGY DIV800MWh,25011\n",
      "\n",
      "NYISO ZONE A DA OFF-PK FIX PR - ICE FUTURES ENERGY DIV(1MW for about 368 Hours),16393\n",
      "\n",
      "NYISO ZONE G DA PEAK - ICE FUTURES ENERGY DIV800MWh,36691\n",
      "\n",
      "NYISO ZONE G DA OFF-PK - ICE FUTURES ENERGY DIV(1MW for about 368 Hours),21512\n",
      "\n",
      "PALO VERDE DA PEAK - ICE FUTURES ENERGY DIV400MWh,15232\n",
      "\n",
      "PALO VERDE DA OFF-PK FiXED PR - ICE FUTURES ENERGY DIV(1 MW for about 368 Hours),18513\n",
      "\n",
      "PJM PECO ZONE DA PEAK - ICE FUTURES ENERGY DIV1 MW,15867\n",
      "\n",
      "PJM PECO ZONE OFF-PEAK MONTHLY - ICE FUTURES ENERGY DIV1 MW,8331\n",
      "\n",
      "PJM PPL ZONE DAY AHEAD, OFF-PEAK MONTHLY - ICE FUTURES ENERGY DIV1 MW,46214\n",
      "\n",
      "PJM PPL ZONE DA PEAK - ICE FUTURES ENERGY DIV1 MW,49184\n",
      "\n",
      "PJM WESTERN HUB DA OFF-PK - ICE FUTURES ENERGY DIV1 MW,100241\n",
      "\n",
      "PJM WESTERN HUB DA PEAK - ICE FUTURES ENERGY DIV352 MWh,116072\n",
      "\n",
      "PJM WESTERN HUB RT PEAK MINI - ICE FUTURES ENERGY DIV1 MW,402863\n",
      "\n",
      "PJM PSEG ZONE DAY-AHEAD OFF-PEAK - ICE FUTURES ENERGY DIV1 MW,11335\n",
      "\n",
      "ERCOT N 345KV REAL T PK DALY M - ICE FUTURES ENERGY DIV16 MWh,7660\n",
      "\n",
      "ERCOT N 345KV REAL T PK 2x16 - ICE FUTURES ENERGY DIV(1MW for about 352 Hours),33324\n",
      "\n",
      "ERCOT North 345KV Hub RT 7x8 - ICE FUTURES ENERGY DIV(1MW for about 352 Hours),34537\n",
      "\n",
      "ISONE..H.INTERNAL_HUB_month_on_dap - NODAL EXCHANGEMegawatt Hours (MWh),84876\n",
      "\n",
      "ISONE..H.INTERNAL_HUB_month_off_dap - NODAL EXCHANGEMegawatt Hours (MWh),67589\n",
      "\n",
      "MISO.INDIANA.HUB_month_on_dap - NODAL EXCHANGEMegawatt Hours (MWh),24860\n",
      "\n",
      "MISO.INDIANA.HUB_month_off_dap - NODAL EXCHANGEMegawatt Hours (MWh),22850\n",
      "\n",
      "NYISO.HUD VL_month_on_dap - NODAL EXCHANGEMegawatt Hours (MWh),37048\n",
      "\n",
      "NYISO.HUD VL_month_off_dap - NODAL EXCHANGEMegawatt Hours (MWh),26425\n",
      "\n",
      "NYISO.WEST_month_on_dap - NODAL EXCHANGEMegawatt Hours (MWh),21361\n",
      "\n",
      "PJM.AEP-DAYTON HUB_month_on_dap - NODAL EXCHANGEMegawatt Hours (MWh),98152\n",
      "\n",
      "PJM.AEP-DAYTON HUB_month_off_dap - NODAL EXCHANGEMegawatt Hours (MWh),97756\n",
      "\n",
      "PJM.BGE_month_on_dap - NODAL EXCHANGEMegawatt Hours (MWh),26085\n",
      "\n",
      "PJM.BGE_month_off_dap - NODAL EXCHANGEMegawatt Hours (MWh),25985\n",
      "\n",
      "PJM.N ILLINOIS HUB_month_on_dap - NODAL EXCHANGEMegawatt Hours (MWh),50417\n",
      "\n",
      "PJM.N ILLINOIS HUB_month_off_dap - NODAL EXCHANGEMegawatt Hours (MWh),56096\n",
      "\n",
      "PJM.PECO_month_on_dap - NODAL EXCHANGEMegawatt Hours (MWh),52215\n",
      "\n",
      "PJM.PECO_month_off_dap - NODAL EXCHANGEMegawatt Hours (MWh),48640\n",
      "\n",
      "PJM.PPL_month_on_dap - NODAL EXCHANGEMegawatt Hours (MWh),76420\n",
      "\n",
      "PJM.PPL_month_off_dap - NODAL EXCHANGEMegawatt Hours (MWh),73250\n",
      "\n",
      "PJM.PSEG_month_on_dap - NODAL EXCHANGEMegawatt Hours (MWh),57444\n",
      "\n",
      "PJM.PSEG_month_off_dap - NODAL EXCHANGEMegawatt Hours (MWh),50044\n",
      "\n",
      "PJM.WESTERN HUB_month_on_dap - NODAL EXCHANGEMegawatt Hours (MWh),214925\n",
      "\n",
      "PJM.WESTERN HUB_month_off_dap - NODAL EXCHANGEMegawatt Hours (MWh),201267\n",
      "\n",
      "PJM.AEP-DAYTON HUB_month_on_rtp - NODAL EXCHANGEMegawatt Hours (MWh),49121\n",
      "\n",
      "PJM.AEP-DAYTON HUB_month_off_rtp - NODAL EXCHANGEMegawatt Hours (MWh),45140\n",
      "\n",
      "PJM.N ILLINOIS HUB_month_on_rtp - NODAL EXCHANGEMegawatt Hours (MWh),47061\n",
      "\n",
      "PJM.N ILLINOIS HUB_month_off_rtp - NODAL EXCHANGEMegawatt Hours (MWh),47335\n",
      "\n",
      "PJM.WESTERN HUB_month_on_rtp - NODAL EXCHANGEMegawatt Hours (MWh),212273\n",
      "\n",
      "PJM.WESTERN HUB_month_off_rtp - NODAL EXCHANGEMegawatt Hours (MWh),189142\n",
      "\n"
     ]
    }
   ],
   "metadata": {}
  },
  {
   "cell_type": "markdown",
   "source": [
    "# Exercice 5 - Paranthesis Calculation :\n",
    "- Function execution\n",
    "- Unit tests"
   ],
   "metadata": {}
  },
  {
   "cell_type": "code",
   "execution_count": 8,
   "source": [
    "\n",
    "#expression = \"2*5+9\"\n",
    "maxminexp(list_num=[0.6,0.2,0.1,7], list_op=['/','-','*'])[1]"
   ],
   "outputs": [
    {
     "output_type": "execute_result",
     "data": {
      "text/plain": [
       "43"
      ]
     },
     "metadata": {},
     "execution_count": 8
    }
   ],
   "metadata": {}
  },
  {
   "cell_type": "code",
   "execution_count": null,
   "source": [],
   "outputs": [],
   "metadata": {}
  }
 ],
 "metadata": {
  "orig_nbformat": 4,
  "language_info": {
   "name": "python",
   "version": "3.8.5",
   "mimetype": "text/x-python",
   "codemirror_mode": {
    "name": "ipython",
    "version": 3
   },
   "pygments_lexer": "ipython3",
   "nbconvert_exporter": "python",
   "file_extension": ".py"
  },
  "kernelspec": {
   "name": "python3",
   "display_name": "Python 3.8.5 64-bit ('crypto-trading-bot-2NQVy3KX-py3.8': venv)"
  },
  "interpreter": {
   "hash": "5dd3dc30848b78765b16a16feaf6490d50f30ad57d44a1fe7e49be7641e0bd0a"
  }
 },
 "nbformat": 4,
 "nbformat_minor": 2
}